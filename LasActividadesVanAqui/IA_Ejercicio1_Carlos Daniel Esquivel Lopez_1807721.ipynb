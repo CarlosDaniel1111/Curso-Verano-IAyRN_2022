{
  "nbformat": 4,
  "nbformat_minor": 0,
  "metadata": {
    "colab": {
      "name": "Untitled0.ipynb",
      "provenance": []
    },
    "kernelspec": {
      "name": "python3",
      "display_name": "Python 3"
    },
    "language_info": {
      "name": "python"
    }
  },
  "cells": [
    {
      "cell_type": "code",
      "execution_count": 4,
      "metadata": {
        "id": "WEP10Bq8yWmf",
        "colab": {
          "base_uri": "https://localhost:8080/"
        },
        "outputId": "f67f45c6-6c08-4842-bc30-8908b3153207"
      },
      "outputs": [
        {
          "output_type": "stream",
          "name": "stdout",
          "text": [
            "Hola,¿Cual es tu nombre? Ana\n",
            "Lo siento,no te puedo saludar\n"
          ]
        }
      ],
      "source": [
        "\"\"\"Ejercicio 1\n",
        "Escribe un programa que le pida al usuario por su nombre y que lo salude con su nombre, excepto si se llama \"Ana\",\"Juan\", y \"Pedro\".\"\"\"\n",
        "Nombre = input(\"Hola,¿Cual es tu nombre? \")\n",
        "if Nombre == \"Ana\" or Nombre==\"Juan\" or Nombre==\"Pedro\":\n",
        "  print(\"Lo siento,no te puedo saludar\")\n",
        "else:\n",
        "    print(\"Hola \" + Nombre)"
      ]
    },
    {
      "cell_type": "code",
      "source": [
        "\"\"\"Ejercicio 2\n",
        "Escribe una funcion que regrese el ultimo elemento de una lista y que revierta el orden de la lista e imprima la lista revertida.\"\"\"\n",
        "\"\"\"Lista de Super\"\"\"\n",
        "Articulos = (\"Huevo\", \"Tortillas\", \"Manzanas\")\n",
        "print(Articulos[-1])\n",
        "lista_invertida = Articulos[::-1]\n",
        "print(lista_invertida)"
      ],
      "metadata": {
        "colab": {
          "base_uri": "https://localhost:8080/"
        },
        "id": "yksZ6jbZqDfB",
        "outputId": "9caab59e-a26c-4dc6-fed8-1230796c3a9e"
      },
      "execution_count": 7,
      "outputs": [
        {
          "output_type": "stream",
          "name": "stdout",
          "text": [
            "Manzanas\n",
            "('Manzanas', 'Tortillas', 'Huevo')\n"
          ]
        }
      ]
    },
    {
      "cell_type": "code",
      "source": [
        "\"\"\"Ejercicio 3\n",
        "Escribir una funcion que toma una lista de strings y los imprima linea por linea en un marco rectangular.\"\"\"\n",
        "Sentencia = (\"Hola\",\"binvenidos\",\"al\",\"curso\",\"de\",\"verano\",\"de\",\"Inteligencia\",\"Artifical.\")\n",
        "for x in Sentencia:\n",
        "  print(x)\n",
        "  "
      ],
      "metadata": {
        "colab": {
          "base_uri": "https://localhost:8080/"
        },
        "id": "EDZgLBwyqEQj",
        "outputId": "9a919632-5e90-428b-e4db-28887a240462"
      },
      "execution_count": 8,
      "outputs": [
        {
          "output_type": "stream",
          "name": "stdout",
          "text": [
            "Hola\n",
            "binvenidos\n",
            "al\n",
            "curso\n",
            "de\n",
            "verano\n",
            "de\n",
            "Inteligencia\n",
            "Artifical.\n"
          ]
        }
      ]
    }
  ]
}